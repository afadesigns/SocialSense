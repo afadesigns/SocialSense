import pandas as pd
import time
from instagrapi import Client
from instagrapi.exceptions import LoginRequired, TwoFactorRequired, PleaseWaitFewMinutes
import getpass
import logging
import os
import random

# Set up logging
logging.basicConfig(level=logging.INFO)
logger = logging.getLogger(__name__)

def exponential_backoff(retry):
    """Calculate an exponential backoff time."""
    return 2 ** retry + random.uniform(0, 1)

def get_instagram_credentials():
    """Get Instagram credentials from user input."""
    username = input("Enter your Instagram username: ")
    password = getpass.getpass("Enter your Instagram password (input is hidden): ")
    return username, password

def login_user(username, password):
    """Login user and return Client instance."""
    cl = Client()
    for _ in range(3):
        try:
            cl.login(username, password)
            break
        except LoginRequired:
            logger.error("Login failed. Authentication challenge required.")
            return None
        except TwoFactorRequired:
            verification_code = input("Enter the two-factor authentication code: ")
            try:
                cl.login(username, password, verification_code=verification_code)
                break
            except TwoFactorRequired:
                logger.error("Invalid two-factor authentication code.")
                return None
    return cl

def fetch_instagram_followers(account_username):
    """Fetch Instagram followers and return DataFrame."""
    cl = None
    while cl is None:
        username, password = get_instagram_credentials()
        cl = login_user(username, password)
        if cl is None:
            logger.error("Login failed. Retrying in 60 seconds...")
            time.sleep(60)

    user_id = cl.user_id_from_username(account_username)

    all_followers = []
    max_id = ""
    retry = 0
    max_retries = 5

    while retry < max_retries:
        try:
            followers_chunk, next_max_id = cl.user_followers_v1_chunk(user_id, max_id=max_id)
            all_followers.extend(followers_chunk)
            if not next_max_id:
                break
            max_id = next_max_id
            retry = 0
        except PleaseWaitFewMinutes:
            logger.warning(f"Rate limit hit. Waiting before retrying...")
            time.sleep(exponential_backoff(retry))
            retry += 1
            continue

    if retry == max_retries:
        logger.error("Maximum retries reached. Exiting...")
        return pd.DataFrame()  # Return empty DataFrame on failure

    follower_data = [
        {
            'username': follower.username,
            'full_name': follower.full_name,
            'user_id': follower.pk
        } for follower in all_followers
    ]

    logger.info(f"Fetched {len(follower_data)} Instagram followers.")
    return pd.DataFrame(follower_data)

def save_to_csv(dataframe, filepath):
    """Save DataFrame to CSV file."""
    try:
        os.makedirs(os.path.dirname(filepath), exist_ok=True)
        dataframe.to_csv(filepath, index=False)
        logger.info(f"Data saved to {filepath}")
    except OSError as e:
        logger.error(f"Cannot save file into {filepath}: {e}")

if __name__ == "__main__":
    account_username = "afadesign.official"
    followers_df = fetch_instagram_followers(account_username)
    save_to_csv(followers_df, "followers.csv")
