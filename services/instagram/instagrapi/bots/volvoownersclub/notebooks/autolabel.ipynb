{
 "cells": [
  {
   "cell_type": "code",
   "execution_count": null,
   "id": "initial_id",
   "metadata": {
    "collapsed": true,
    "jupyter": {
     "outputs_hidden": true
    }
   },
   "outputs": [],
   "source": [
    "# autolabel.py\n",
    "\n",
    "# Approach:\n",
    "# - Implement a semi-automatic labeling method for social media accounts\n",
    "# - Enhance feature engineering process\n",
    "# - Optimize classifier parameters\n",
    "# - Adapt classifier for real-time application on Instagram data related to #volvoownersclub\n",
    "\n",
    "import numpy as np\n",
    "import pandas as pd\n",
    "from sklearn.ensemble import RandomForestClassifier\n",
    "from sklearn.metrics import confusion_matrix, precision_score, recall_score, f1_score\n",
    "from sklearn.model_selection import train_test_split, GridSearchCV\n",
    "\n",
    "# Load dataset (already preprocessed and feature engineered)\n",
    "try:\n",
    "    instagram_data = pd.read_csv(\"C:\\\\Projects\\\\SocialSense\\\\data_management\\\\processed\\\\instagram_data_processed.csv\")\n",
    "except FileNotFoundError:\n",
    "    print(\"Error: The file 'instagram_data_processed.csv' was not found.\")\n",
    "else:\n",
    "\n",
    "# Define features and target variable\n",
    "features = instagram_data.drop(columns=['User_ID', 'Label'])\n",
    "target = instagram_data['Label']\n",
    "\n",
    "# Split dataset into training and testing sets\n",
    "X_train, X_test, y_train, y_test = train_test_split(features, target, test_size=0.2, random_state=42)\n",
    "\n",
    "# Define parameter grid for tuning\n",
    "param_grid = {\n",
    "    'n_estimators': [50, 100, 150],\n",
    "    'max_depth': [None, 10, 20],\n",
    "    'min_samples_split': [2, 5, 10],\n",
    "    'min_samples_leaf': [1, 2, 4]\n",
    "}\n",
    "\n",
    "# Initialize random forest classifier\n",
    "classifier = RandomForestClassifier(random_state=42)\n",
    "\n",
    "# Perform grid search for parameter tuning\n",
    "grid_search = GridSearchCV(classifier, param_grid, cv=5, scoring='f1')\n",
    "grid_search.fit(X_train, y_train)\n",
    "\n",
    "# Get best parameters\n",
    "best_params = grid_search.best_params_\n",
    "\n",
    "# Train classifier with best parameters\n",
    "best_classifier = RandomForestClassifier(random_state=42, **best_params)\n",
    "best_classifier.fit(X_train, y_train)\n",
    "\n",
    "# Evaluate classifier\n",
    "y_pred_train = best_classifier.predict(X_train)\n",
    "y_pred_test = best_classifier.predict(X_test)\n",
    "\n",
    "# Compute evaluation metrics\n",
    "train_precision = precision_score(y_train, y_pred_train)\n",
    "train_recall = recall_score(y_train, y_pred_train)\n",
    "train_f1 = f1_score(y_train, y_pred_train)\n",
    "\n",
    "test_precision = precision_score(y_test, y_pred_test)\n",
    "test_recall = recall_score(y_test, y_pred_test)\n",
    "test_f1 = f1_score(y_test, y_pred_test)\n",
    "\n",
    "# Print evaluation metrics\n",
    "print(\"Training Set:\")\n",
    "print(f\"Precision: {train_precision}\")\n",
   

[Page break]

f\"Recall: {train_recall}\")\n",
"print(f\"F1 Score: {train_f1}\")\n",
"\n",
"print(\"\\nTest Set:\")\n",
"print(f\"Precision: {test_precision}\")\n",
"print(f\"Recall: {test_recall}\")\n",
"print(f\"F1 Score: {test_f1}\")\n",
"\n",
"# Confusion matrices\n",
"print(\"\\nConfusion Matrix - Training Set:\")\n",
"print(confusion_matrix(y_train, y_pred_train))\n",
"\n",
"print(\"\\nConfusion Matrix - Test Set:\")\n",
"print(confusion_matrix(y_test, y_pred_test))\n"
   ]
  }
 ],
 "metadata": {
  "kernelspec": {
   "display_name": "Python 3 (ipykernel)",
   "language": "python",
   "name": "python3"
  },
  "language_info": {
   "codemirror_mode": {
    "name": "ipython",
    "version": 3
   },
   "file_extension": ".py
