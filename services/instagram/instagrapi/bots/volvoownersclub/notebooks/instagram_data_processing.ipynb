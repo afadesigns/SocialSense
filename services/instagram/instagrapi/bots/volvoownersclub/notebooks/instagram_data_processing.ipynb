import os
import pandas as pd
from sklearn.model_selection import train_test_split
from sklearn.feature_extraction.text import CountVectorizer
from sklearn.ensemble import RandomForestClassifier
from sklearn.pipeline import Pipeline
from sklearn.metrics import accuracy_score

def load_instagram_data(csv_file):
    try:
        instagram_data = pd.read_csv(csv_file)
        return instagram_data
    except FileNotFoundError as e:
        print(f"Error: CSV file '{csv_file}' not found. Error details: {e}")
        return None

def preprocess_text(text):
    if isinstance(text, str):
        return text.lower()  # Convert text to lowercase
    else:
        return str(text)  # Convert non-string inputs to string

def label_engagement_level(row):
    total_likes = row['likes']
    total_comments = row['comments']

    if total_likes + total_comments > 100:
        return "High Engagement"
    elif total_likes + total_comments > 50:
        return "Moderate Engagement"
    elif total_likes + total_comments > 10:
        return "Low Engagement"
    else:
        return "No Engagement"

def save_processed_data(instagram_data, processed_csv_path):
    if not instagram_data.empty:
        instagram_data.to_csv(processed_csv_path, index=False)
        print(f"Processed data saved to: {processed_csv_path}")
    else:
        print("Error: No data available after preprocessing.")

def main():
    csv_file = "C:\\Projects\\SocialSense\\data_management\\files\\csv\\instagram_data.csv"
    instagram_data = load_instagram_data(csv_file)

    if instagram_data is not None:
        instagram_data['caption'] = instagram_data['caption'].apply(preprocess_text)
        instagram_data['label'] = instagram_data.apply(label_engagement_level, axis=1)

        X = instagram_data['caption']
        y = instagram_data['label']

        if len(X) == 0 or len(y) == 0:
            print("Error: No data available after preprocessing.")
            return

        X_train, X_test, y_train, y_test = train_test_split(X, y, test_size=0.2, random_state=42, stratify=y)

        if len(X_train) == 0 or len(X_test) == 0:
            print("Error: The train or test set is empty. Please adjust the test_size parameter.")
            return

        pipeline = Pipeline([
            ('vectorizer', CountVectorizer()),
            ('classifier', RandomForestClassifier())
        ])

        pipeline.fit(X_train, y_train)
        y_pred = pipeline.predict(X_test)
        test_accuracy = accuracy_score(y_test, y_pred)
        print("Test Set Accuracy:", test_accuracy)

        processed_csv_dir = "C:\\Projects\\SocialSense\\data_management\\processed"
        processed_csv_path = os.path.join(processed_csv_dir, "instagram_data_processed.csv")
        save_processed_data(instagram_data, processed_csv_path)
    else:
        print("Error: Instagram data could not be loaded.")

if __name__ == "__main__":
    main()
