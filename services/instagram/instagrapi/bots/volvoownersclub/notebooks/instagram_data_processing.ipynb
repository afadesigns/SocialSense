import os
import pandas as pd
from sklearn.model_selection import train_test_split
from sklearn.feature_extraction.text import CountVectorizer
from sklearn.ensemble import RandomForestClassifier
from sklearn.pipeline import Pipeline
from sklearn.metrics import accuracy_score
from typing import Optional

# Function to load Instagram data from CSV file
def load_instagram_data(csv_file: str) -> Optional[pd.DataFrame]:
    try:
        instagram_data = pd.read_csv(csv_file)
        return instagram_data
    except FileNotFoundError:
        print(f"Error: CSV file '{csv_file}' not found.")
        return None

# Function for preprocessing text data
def preprocess_text(text: str) -> str:
    if isinstance(text, str):
        # Add your text preprocessing code here
        return text.lower()  # Convert text to lowercase
    else:
        return str(text)  # Convert non-string inputs to string

# Function to label posts based on engagement level
def label_engagement_level(row: pd.Series) -> str:
    total_likes = row['likes']
    total_comments = row['comments']

    if total_likes + total_comments > 100:
        return "High Engagement"
    elif total_likes + total_comments > 50:
        return "Moderate Engagement"
    elif total_likes + total_comments > 10:
        return "Low Engagement"
    else:
        return "No Engagement"

