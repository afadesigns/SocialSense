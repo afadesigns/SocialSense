import logging
import os
import sys
import time
from datetime import datetime, time
from typing import List, Tuple

import cachetools
import dotenv
from instagrapi import Client
from instagrapi.exceptions import (
    ChallengeRequired,
    ClientError,
    PleaseWaitFewMinutes,
    TwoFactorRequired,
    BadPassword,
    LoginRequired,
    ReloginAttemptExceeded,
)
from instagrapi.types import UserShort
from services.instagram.instagrapi.extractors import extract_user_short
from services.instagram.instagrapi.mixins.user import MAX_USER_COUNT

# Load environment variables from .env file
dotenv.load_dotenv()

# Verify presence of required environment variables
INSTA_USERNAME = os.getenv("INSTA_USERNAME")
INSTA_PASSWORD = os.getenv("INSTA_PASSWORD")

if not INSTA_USERNAME or not INSTA_PASSWORD:
    print("Error: INSTA_USERNAME or INSTA_PASSWORD not set in environment variables.")
    sys.exit(1)

def setup_logging():
    """Configure logging."""
    logging.basicConfig(level=os.getenv("LOG_LEVEL", "INFO").upper())
    logger_inst = logging.getLogger(__name__)  # Rename to logger_inst
    handler = logging.StreamHandler(sys.stdout)
    formatter = logging.Formatter("%(asctime)s - %(levelname)s - %(message)s")
    handler.setFormatter(formatter)
    logger_inst.addHandler(handler)
    return logger_inst

logger = setup_logging()

# Initialize cache for storing follower details temporarily
follower_info_cache = cachetools.TTLCache(maxsize=1000, ttl=3600)

def validate_follower_data(follower_info, username):
    """Ensure follower data has necessary attributes and valid content."""
    if not follower_info:
        logger.error({"error": "Follower data is None.", "username": username})
        raise ValueError(f"Follower data for {username} is None.")

    required_attrs = ["username", "full_name", "pk"]
    missing_attrs = [attr for attr in required_attrs if not follower_info.get(attr)]

    if missing_attrs:
        logger.error(
            {
                "error": "Missing required attributes.",
                "username": username,
                "missing_attrs": missing_attrs,
            }
        )
        raise ValueError(f"Missing required attributes for {username}: {missing_attrs}")

def calculate_engagement_metrics(api_client, user_id):
    """Calculate engagement metrics based on the user's recent posts."""
    try:
        posts = api_client.user_feed(user_id, amount=10)
        total_likes = sum(post.like_count for post in posts)
        total_comments = sum(post.comment_count for post in posts)
        post_count = len(posts)
        avg_likes = total_likes / post_count if post_count else 0
        avg_comments = total_comments / post_count if post_count else 0
        engagement_ratio = (total_likes + total_comments) / post_count if post_count else 0
        return avg_likes, avg_comments, engagement_ratio
    except (ChallengeRequired, PleaseWaitFewMinutes, ClientError) as ex:
        logger.error(
            {"error": "Error calculating engagement metrics.", "exception": str(ex)}
        )
        return 0, 0, 0

class FetchError(Exception):
    """Custom exception class for fetch errors."""

    def __init__(self, message):
        self.message = message
        super().__init__(message)

def retry_on_error(retries=3, delay=1, backoff=2):
    """Retry function decorator."""

    def decorator(func):
        def wrapper(*args, **kwargs):
            current_delay = delay

            for _ in range(retries):
                try:
                    return func(*args, **kwargs)
                except (
                    ChallengeRequired,
                    PleaseWaitFewMinutes,
                    ClientError,
                ) as ex:
                    logger.warning(
                        {
                            "warning": "Retrying after recoverable error.",
                            "exception": str(ex),
                        }
                    )
                    time.sleep(current_delay)
                    current_delay *= backoff

            raise FetchError("Max retries exceeded. Error not recoverable.")

        return wrapper

    return decorator

@retry_on_error(retries=3, delay=1, backoff=2)
def fetch_follower_details(api_client, username):
    """Fetch detailed information for a specific follower."""
    cached_data = follower_info_cache.get(username)
    if cached_data:
        logger.debug(
            {"message": "Using cached data for follower.", "username": username}
        )
        return cached_data

    try:
        logger.debug(
            {"message": "Fetching details for follower.", "username": username}
        )
        follower_info = api_client.user_info_by_username(username)
        validate_follower_data(follower_info, username)
        metrics = calculate_engagement_metrics(api_client, follower_info.pk)
        follower_data = {
            "username": follower_info.username,
            "full_name": follower_info.full_name,
            "user_id": follower_info.pk,
            "average_likes_per_post": metrics[0],
            "average_comments_per_post": metrics[1],
            "engagement_ratio": metrics[2],
            "recent_activity": datetime.now().iso
